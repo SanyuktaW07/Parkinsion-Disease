{
 "cells": [
  {
   "cell_type": "code",
   "execution_count": 1,
   "id": "75c0f8ac-d818-4ddb-b195-e684abcdd401",
   "metadata": {},
   "outputs": [],
   "source": [
    "# !pip install ipywidgets Pillow"
   ]
  },
  {
   "cell_type": "code",
   "execution_count": 2,
   "id": "c32be09d-9793-4cdd-9b8d-332187f95c21",
   "metadata": {},
   "outputs": [],
   "source": [
    "import numpy as np\n",
    "import cv2\n",
    "import matplotlib.pyplot as plt\n",
    "from tensorflow.keras.models import load_model\n",
    "import ipywidgets as widgets\n",
    "from IPython.display import display\n",
    "from PIL import Image\n",
    "import io"
   ]
  },
  {
   "cell_type": "code",
   "execution_count": 3,
   "id": "49207ebb-8b5e-44e0-b181-7fcf191b7f5d",
   "metadata": {},
   "outputs": [
    {
     "name": "stderr",
     "output_type": "stream",
     "text": [
      "WARNING:absl:Compiled the loaded model, but the compiled metrics have yet to be built. `model.compile_metrics` will be empty until you train or evaluate the model.\n"
     ]
    }
   ],
   "source": [
    "model_path = r\"C:\\Users\\anagh\\Downloads\\Wave--Test\\wavem.h5\"\n",
    "model = load_model(model_path)"
   ]
  },
  {
   "cell_type": "code",
   "execution_count": 4,
   "id": "6dba0267-d066-4626-9c79-6121da32f649",
   "metadata": {},
   "outputs": [],
   "source": [
    "# Define labels\n",
    "labels = ['Healthy', 'Parkinson']\n",
    "\n",
    "# Function to preprocess the image\n",
    "def preprocess_image(image):\n",
    "    image = image.resize((128, 128))\n",
    "    image = image.convert('L')  # Convert to grayscale\n",
    "    image = np.array(image)\n",
    "    image = np.expand_dims(image, axis=0)\n",
    "    image = np.expand_dims(image, axis=-1)\n",
    "    return image\n",
    "\n",
    "# Function to predict the class of the image\n",
    "def predict_image(image):\n",
    "    preprocessed_image = preprocess_image(image)\n",
    "    prediction = model.predict(preprocessed_image)\n",
    "    predicted_class = labels[np.argmax(prediction, axis=1)[0]]\n",
    "    return predicted_class\n",
    "\n",
    "# Function to handle the image upload\n",
    "def on_image_upload(change):\n",
    "    # Clear previous output\n",
    "    output.clear_output()\n",
    "    \n",
    "    # Get the uploaded image\n",
    "    uploaded_image = change['new']\n",
    "    if uploaded_image:\n",
    "        image_bytes = uploaded_image[0]['content']\n",
    "        image = Image.open(io.BytesIO(image_bytes))\n",
    "\n",
    "        # Predict the class of the image\n",
    "        predicted_class = predict_image(image)\n",
    "\n",
    "        # Display the image and prediction\n",
    "        with output:\n",
    "            plt.imshow(image, cmap='gray')\n",
    "            plt.axis('off')\n",
    "            plt.title(f'Prediction: {predicted_class}')\n",
    "            plt.show()"
   ]
  },
  {
   "cell_type": "code",
   "execution_count": 5,
   "id": "c0227e7c-fb6c-45e3-afd3-0a829c03ae68",
   "metadata": {},
   "outputs": [],
   "source": [
    "upload_button = widgets.FileUpload(\n",
    "    accept='image/*',\n",
    "    multiple=False\n",
    ")\n",
    "upload_button.observe(on_image_upload, names='value')"
   ]
  },
  {
   "cell_type": "code",
   "execution_count": 6,
   "id": "3f63b31d-4a48-46e7-a92e-2bfe9b5dc485",
   "metadata": {},
   "outputs": [
    {
     "data": {
      "application/vnd.jupyter.widget-view+json": {
       "model_id": "0d77404a8266411eaa90d5c06cc6f151",
       "version_major": 2,
       "version_minor": 0
      },
      "text/plain": [
       "FileUpload(value=(), accept='image/*', description='Upload')"
      ]
     },
     "metadata": {},
     "output_type": "display_data"
    },
    {
     "data": {
      "application/vnd.jupyter.widget-view+json": {
       "model_id": "ce6f71e19d364818a2378e44610723ab",
       "version_major": 2,
       "version_minor": 0
      },
      "text/plain": [
       "Output()"
      ]
     },
     "metadata": {},
     "output_type": "display_data"
    }
   ],
   "source": [
    "display(upload_button)\n",
    "output = widgets.Output()\n",
    "display(output)"
   ]
  },
  {
   "cell_type": "code",
   "execution_count": null,
   "id": "4ab9cfb5-ae4f-4859-ad7a-2c4d781e0761",
   "metadata": {},
   "outputs": [],
   "source": []
  }
 ],
 "metadata": {
  "kernelspec": {
   "display_name": "Python 3 (ipykernel)",
   "language": "python",
   "name": "python3"
  },
  "language_info": {
   "codemirror_mode": {
    "name": "ipython",
    "version": 3
   },
   "file_extension": ".py",
   "mimetype": "text/x-python",
   "name": "python",
   "nbconvert_exporter": "python",
   "pygments_lexer": "ipython3",
   "version": "3.11.7"
  }
 },
 "nbformat": 4,
 "nbformat_minor": 5
}
