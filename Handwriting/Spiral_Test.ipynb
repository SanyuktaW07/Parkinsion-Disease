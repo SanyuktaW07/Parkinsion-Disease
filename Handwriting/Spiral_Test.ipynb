{
 "cells": [
  {
   "cell_type": "code",
   "execution_count": 2,
   "id": "9f51b5ce-fb6d-4ac6-ab85-ee35b81e9562",
   "metadata": {},
   "outputs": [],
   "source": [
    "# !pip install ipywidgets Pillow"
   ]
  },
  {
   "cell_type": "code",
   "execution_count": 3,
   "id": "d6c63897-0759-497b-88a3-411aded5cc26",
   "metadata": {},
   "outputs": [],
   "source": [
    "import numpy as np\n",
    "import cv2\n",
    "import matplotlib.pyplot as plt\n",
    "from tensorflow.keras.models import load_model\n",
    "import ipywidgets as widgets\n",
    "from IPython.display import display\n",
    "from PIL import Image\n",
    "import io"
   ]
  },
  {
   "cell_type": "code",
   "execution_count": 4,
   "id": "b977d6c2-42b9-4139-83b0-948195eb90ac",
   "metadata": {},
   "outputs": [
    {
     "name": "stderr",
     "output_type": "stream",
     "text": [
      "WARNING:absl:Compiled the loaded model, but the compiled metrics have yet to be built. `model.compile_metrics` will be empty until you train or evaluate the model.\n"
     ]
    }
   ],
   "source": [
    "model_path = r\"C:\\Users\\anagh\\Downloads\\Spiral--Test\\parkinson_disease_detection.h5\"\n",
    "model = load_model(model_path)"
   ]
  },
  {
   "cell_type": "code",
   "execution_count": 5,
   "id": "36593c6c-3c50-484e-b9a8-56d71a811c08",
   "metadata": {},
   "outputs": [],
   "source": [
    "# Define labels\n",
    "labels = ['Healthy', 'Parkinson']\n",
    "\n",
    "# Function to preprocess the image\n",
    "def preprocess_image(image):\n",
    "    image = image.resize((128, 128))\n",
    "    image = image.convert('L')  # Convert to grayscale\n",
    "    image = np.array(image)\n",
    "    image = np.expand_dims(image, axis=0)\n",
    "    image = np.expand_dims(image, axis=-1)\n",
    "    return image\n",
    "\n",
    "# Function to predict the class of the image\n",
    "def predict_image(image):\n",
    "    preprocessed_image = preprocess_image(image)\n",
    "    prediction = model.predict(preprocessed_image)\n",
    "    predicted_class = labels[np.argmax(prediction, axis=1)[0]]\n",
    "    return predicted_class\n",
    "\n",
    "# Function to handle the image upload\n",
    "def on_image_upload(change):\n",
    "    # Clear previous output\n",
    "    output.clear_output()\n",
    "    \n",
    "    # Get the uploaded image\n",
    "    uploaded_image = change['new']\n",
    "    if uploaded_image:\n",
    "        image_bytes = uploaded_image[0]['content']\n",
    "        image = Image.open(io.BytesIO(image_bytes))\n",
    "\n",
    "        # Predict the class of the image\n",
    "        predicted_class = predict_image(image)\n",
    "\n",
    "        # Display the image and prediction\n",
    "        with output:\n",
    "            plt.imshow(image, cmap='gray')\n",
    "            plt.axis('off')\n",
    "            plt.title(f'Prediction: {predicted_class}')\n",
    "            plt.show()"
   ]
  },
  {
   "cell_type": "code",
   "execution_count": 6,
   "id": "40d0cd9b-1fee-400d-a43a-f1cc798a9993",
   "metadata": {},
   "outputs": [],
   "source": [
    "upload_button = widgets.FileUpload(\n",
    "    accept='image/*',\n",
    "    multiple=False\n",
    ")\n",
    "upload_button.observe(on_image_upload, names='value')"
   ]
  },
  {
   "cell_type": "code",
   "execution_count": 7,
   "id": "f59d64cd-2a66-48a2-a401-26d220028f1f",
   "metadata": {},
   "outputs": [
    {
     "data": {
      "application/vnd.jupyter.widget-view+json": {
       "model_id": "24c72c538da3483589f072048d94ac92",
       "version_major": 2,
       "version_minor": 0
      },
      "text/plain": [
       "FileUpload(value=(), accept='image/*', description='Upload')"
      ]
     },
     "metadata": {},
     "output_type": "display_data"
    },
    {
     "data": {
      "application/vnd.jupyter.widget-view+json": {
       "model_id": "6b7e273036cd45418bb18b38e78156c8",
       "version_major": 2,
       "version_minor": 0
      },
      "text/plain": [
       "Output()"
      ]
     },
     "metadata": {},
     "output_type": "display_data"
    }
   ],
   "source": [
    "display(upload_button)\n",
    "output = widgets.Output()\n",
    "display(output)"
   ]
  }
 ],
 "metadata": {
  "kernelspec": {
   "display_name": "Python 3 (ipykernel)",
   "language": "python",
   "name": "python3"
  },
  "language_info": {
   "codemirror_mode": {
    "name": "ipython",
    "version": 3
   },
   "file_extension": ".py",
   "mimetype": "text/x-python",
   "name": "python",
   "nbconvert_exporter": "python",
   "pygments_lexer": "ipython3",
   "version": "3.11.7"
  }
 },
 "nbformat": 4,
 "nbformat_minor": 5
}
